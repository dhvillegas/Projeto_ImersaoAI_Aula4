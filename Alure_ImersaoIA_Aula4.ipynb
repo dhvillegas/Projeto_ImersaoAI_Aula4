{
  "nbformat": 4,
  "nbformat_minor": 0,
  "metadata": {
    "colab": {
      "provenance": [],
      "authorship_tag": "ABX9TyPdC5a7GMuw21TBJD+7lCHz",
      "include_colab_link": true
    },
    "kernelspec": {
      "name": "python3",
      "display_name": "Python 3"
    },
    "language_info": {
      "name": "python"
    }
  },
  "cells": [
    {
      "cell_type": "markdown",
      "metadata": {
        "id": "view-in-github",
        "colab_type": "text"
      },
      "source": [
        "<a href=\"https://colab.research.google.com/github/dhvillegas/Projeto_ImersaoAI_Aula4/blob/main/Alure_ImersaoIA_Aula4.ipynb\" target=\"_parent\"><img src=\"https://colab.research.google.com/assets/colab-badge.svg\" alt=\"Open In Colab\"/></a>"
      ]
    },
    {
      "cell_type": "code",
      "execution_count": null,
      "metadata": {
        "id": "ZZaRDvYEFQOj"
      },
      "outputs": [],
      "source": [
        "!pip install -q -U google-generativeai"
      ]
    },
    {
      "cell_type": "code",
      "source": [
        "# Import the Python SDK\n",
        "import google.generativeai as genai\n",
        "from google.colab import userdata\n",
        "\n",
        "api_key = userdata.get(\"SECRET_KEY\")\n",
        "genai.configure(api_key=api_key)"
      ],
      "metadata": {
        "id": "lGLSIfwjFqBs"
      },
      "execution_count": 34,
      "outputs": []
    },
    {
      "cell_type": "code",
      "source": [
        "for m in genai.list_models():\n",
        "  if 'generateContent' in m.supported_generation_methods:\n",
        "    print(m.name)\n"
      ],
      "metadata": {
        "colab": {
          "base_uri": "https://localhost:8080/",
          "height": 139
        },
        "id": "HM9JGL5hJNww",
        "outputId": "c71ccd30-4a20-4d7f-e6f8-2d30633d57f5"
      },
      "execution_count": 17,
      "outputs": [
        {
          "output_type": "stream",
          "name": "stdout",
          "text": [
            "models/gemini-1.0-pro\n",
            "models/gemini-1.0-pro-001\n",
            "models/gemini-1.0-pro-latest\n",
            "models/gemini-1.0-pro-vision-latest\n",
            "models/gemini-1.5-pro-latest\n",
            "models/gemini-pro\n",
            "models/gemini-pro-vision\n"
          ]
        }
      ]
    },
    {
      "cell_type": "code",
      "source": [
        "generation_config = {\n",
        "   \"candidate_count\": 1,\n",
        "   \"temperature\": 0.5,\n",
        "}"
      ],
      "metadata": {
        "id": "EQWeO_tqLFrR"
      },
      "execution_count": 20,
      "outputs": []
    },
    {
      "cell_type": "code",
      "source": [
        "safety_settings = {\n",
        "    \"HARASSMENT\": \"BLOCK_NONE\",\n",
        "    \"HATE\": \"BLOCK_NONE\",\n",
        "    \"SEXUAL\": \"BLOCK_NONE\",\n",
        "    \"DANGEROUS\": \"BLOCK_NONE\"\n",
        "}"
      ],
      "metadata": {
        "id": "P0piupZOLjvv"
      },
      "execution_count": 22,
      "outputs": []
    },
    {
      "cell_type": "markdown",
      "source": [
        "Iniciando o Modelo"
      ],
      "metadata": {
        "id": "6kh4h3YHMwYq"
      }
    },
    {
      "cell_type": "code",
      "source": [
        "model = genai.GenerativeModel(model_name=\"gemini-1.0-pro\",\n",
        "                              generation_config=generation_config,\n",
        "                              safety_settings=safety_settings)"
      ],
      "metadata": {
        "id": "lv0SFNx1Hbl2"
      },
      "execution_count": 23,
      "outputs": []
    },
    {
      "cell_type": "code",
      "source": [
        "response = model.generate_content(\"Como personalizar o descritivo do Linkedin para atrair mais recrutadores pensando no perfil de um Product Manager?\")\n",
        "print(response.text)"
      ],
      "metadata": {
        "colab": {
          "base_uri": "https://localhost:8080/",
          "height": 645
        },
        "id": "E1mZ_BNsHj1S",
        "outputId": "57afce20-3a3b-4149-c530-7fe8bfc05a93"
      },
      "execution_count": 24,
      "outputs": [
        {
          "output_type": "stream",
          "name": "stdout",
          "text": [
            "**Destaque Suas Habilidades Essenciais**\n",
            "\n",
            "* Gestão de produtos\n",
            "* Desenvolvimento de estratégias de produtos\n",
            "* Pesquisa de mercado e análise\n",
            "* Priorização e roteirização de recursos\n",
            "* Colaboração com equipes de engenharia, design e marketing\n",
            "\n",
            "**Quantifique Seus Resultados**\n",
            "\n",
            "* \"Desenvolvi e lancei produtos que aumentaram a receita em X%.\"\n",
            "* \"Reduzi o tempo de lançamento de produtos em Y% por meio da otimização do processo de desenvolvimento.\"\n",
            "* \"Aumentei o engajamento do usuário em Z% por meio de melhorias na experiência do usuário.\"\n",
            "\n",
            "**Demonstre Seu Entendimento do Setor**\n",
            "\n",
            "* \"Experiência comprovada em produtos de software, e-commerce ou fintech.\"\n",
            "* \"Compreensão profunda das tendências emergentes e melhores práticas do setor.\"\n",
            "* \"Forte conhecimento de metodologias ágeis, como Scrum ou Kanban.\"\n",
            "\n",
            "**Enfatize Suas Habilidades Interpessoais**\n",
            "\n",
            "* \"Excelente comunicação e habilidades interpessoais.\"\n",
            "* \"Capacidade de construir relacionamentos sólidos com stakeholders.\"\n",
            "* \"Liderança de equipes multifuncionais e gerenciamento de conflitos.\"\n",
            "\n",
            "**Destaque Suas Paixões e Aspirações**\n",
            "\n",
            "* \"Apaixonado por criar produtos que resolvam problemas reais.\"\n",
            "* \"Aspiro a liderar equipes de produtos e impulsionar a inovação.\"\n",
            "* \"Acredito que a tecnologia pode melhorar significativamente a vida das pessoas.\"\n",
            "\n",
            "**Exemplo de Descritivo Personalizado**\n",
            "\n",
            "\"Product Manager altamente experiente com um histórico comprovado de desenvolvimento e lançamento de produtos inovadores. Possuo profundo conhecimento de gestão de produtos, pesquisa de mercado e metodologias ágeis. Lidero equipes multifuncionais e colaborei com sucesso com engenharia, design e marketing para entregar produtos que superaram as expectativas do cliente. Sou apaixonado por criar produtos que resolvam problemas reais e busco oportunidades para liderar equipes de produtos e impulsionar a inovação em setores emergentes.\"\n"
          ]
        }
      ]
    },
    {
      "cell_type": "code",
      "source": [
        "chat = model.start_chat(history=[])"
      ],
      "metadata": {
        "colab": {
          "base_uri": "https://localhost:8080/"
        },
        "id": "8n9FqCqsOLCh",
        "outputId": "308b098a-a2c9-43e8-815f-1d497211f223"
      },
      "execution_count": 27,
      "outputs": [
        {
          "name": "stdout",
          "output_type": "stream",
          "text": [
            "Esperando interação: Ola\n"
          ]
        }
      ]
    },
    {
      "cell_type": "code",
      "source": [
        "Chat e visualização do chat"
      ],
      "metadata": {
        "id": "Qs5kAFkbRWvB"
      },
      "execution_count": null,
      "outputs": []
    },
    {
      "cell_type": "code",
      "source": [
        "prompt = input(\"Esperando interação: \")\n",
        "\n",
        "while prompt != \"fim\":\n",
        "  response = chat.send_message(prompt)\n",
        "  print(\"Resposta: \", response.text, \"\\n\")\n",
        "  prompt = input(\"Esperando interação: \")"
      ],
      "metadata": {
        "colab": {
          "base_uri": "https://localhost:8080/",
          "height": 86
        },
        "id": "jFm6LV7iOuFC",
        "outputId": "1a1bc3a7-f897-4722-84eb-07f976c24696"
      },
      "execution_count": 31,
      "outputs": [
        {
          "name": "stdout",
          "output_type": "stream",
          "text": [
            "Esperando interação: Qual a capital da australia\n",
            "Resposta:  Camberra \n",
            "\n",
            "Esperando interação: fim\n"
          ]
        }
      ]
    },
    {
      "cell_type": "code",
      "source": [
        "chat.history"
      ],
      "metadata": {
        "colab": {
          "base_uri": "https://localhost:8080/"
        },
        "id": "DNfeSoldT9Cx",
        "outputId": "4886bd63-d069-44c0-ac07-e6ab2f8b76d9"
      },
      "execution_count": 33,
      "outputs": [
        {
          "output_type": "execute_result",
          "data": {
            "text/plain": [
              "[parts {\n",
              "   text: \"Qual a cor do c\\303\\251u\"\n",
              " }\n",
              " role: \"user\",\n",
              " parts {\n",
              "   text: \"Azul\"\n",
              " }\n",
              " role: \"model\",\n",
              " parts {\n",
              "   text: \"Qual a cor do c\\303\\251u\"\n",
              " }\n",
              " role: \"user\",\n",
              " parts {\n",
              "   text: \"Azul\"\n",
              " }\n",
              " role: \"model\",\n",
              " parts {\n",
              "   text: \"Qual a cor do c\\303\\251u\"\n",
              " }\n",
              " role: \"user\",\n",
              " parts {\n",
              "   text: \"Azul\"\n",
              " }\n",
              " role: \"model\",\n",
              " parts {\n",
              "   text: \"Qual a cor do c\\303\\251u\"\n",
              " }\n",
              " role: \"user\",\n",
              " parts {\n",
              "   text: \"Azul\"\n",
              " }\n",
              " role: \"model\",\n",
              " parts {\n",
              "   text: \"Qual a cor do c\\303\\251u\"\n",
              " }\n",
              " role: \"user\",\n",
              " parts {\n",
              "   text: \"Azul\"\n",
              " }\n",
              " role: \"model\",\n",
              " parts {\n",
              "   text: \"Qual a capital da Bolivia\"\n",
              " }\n",
              " role: \"user\",\n",
              " parts {\n",
              "   text: \"Sucre\"\n",
              " }\n",
              " role: \"model\",\n",
              " parts {\n",
              "   text: \"Qual a comida tradicional desse lugar?\"\n",
              " }\n",
              " role: \"user\",\n",
              " parts {\n",
              "   text: \"Salte\\303\\261a\"\n",
              " }\n",
              " role: \"model\",\n",
              " parts {\n",
              "   text: \"Do que \\303\\251 feito essa comida?\"\n",
              " }\n",
              " role: \"user\",\n",
              " parts {\n",
              "   text: \"Carne, vegetais, caldo e massa\"\n",
              " }\n",
              " role: \"model\",\n",
              " parts {\n",
              "   text: \"Quanl a popula\\303\\247\\303\\243o desse lugar?\"\n",
              " }\n",
              " role: \"user\",\n",
              " parts {\n",
              "   text: \"11,6 milh\\303\\265es (2023)\"\n",
              " }\n",
              " role: \"model\",\n",
              " parts {\n",
              "   text: \"Qual a capital da australia\"\n",
              " }\n",
              " role: \"user\",\n",
              " parts {\n",
              "   text: \"Camberra\"\n",
              " }\n",
              " role: \"model\"]"
            ]
          },
          "metadata": {},
          "execution_count": 33
        }
      ]
    },
    {
      "cell_type": "code",
      "source": [
        "import textwrap\n",
        "from IPython.display import display\n",
        "from IPython.display import Markdown\n",
        "\n",
        "def to_markdown(text):\n",
        "  text = text.replace(\".\", \" *\")\n",
        "  return Markdown(textwrap.indent(text, \"> \",predicate=lambda _: True))\n",
        "\n",
        "for message in chat.history:\n",
        "  display(to_markdown(f\"**{message.role}**: {message.parts[0].text}\"))"
      ],
      "metadata": {
        "colab": {
          "base_uri": "https://localhost:8080/",
          "height": 658
        },
        "id": "dHRa2r2LRy2U",
        "outputId": "61d2eb7d-ff75-4804-8880-0305117f225a"
      },
      "execution_count": 32,
      "outputs": [
        {
          "output_type": "display_data",
          "data": {
            "text/plain": [
              "<IPython.core.display.Markdown object>"
            ],
            "text/markdown": "> **user**: Qual a cor do céu"
          },
          "metadata": {}
        },
        {
          "output_type": "display_data",
          "data": {
            "text/plain": [
              "<IPython.core.display.Markdown object>"
            ],
            "text/markdown": "> **model**: Azul"
          },
          "metadata": {}
        },
        {
          "output_type": "display_data",
          "data": {
            "text/plain": [
              "<IPython.core.display.Markdown object>"
            ],
            "text/markdown": "> **user**: Qual a cor do céu"
          },
          "metadata": {}
        },
        {
          "output_type": "display_data",
          "data": {
            "text/plain": [
              "<IPython.core.display.Markdown object>"
            ],
            "text/markdown": "> **model**: Azul"
          },
          "metadata": {}
        },
        {
          "output_type": "display_data",
          "data": {
            "text/plain": [
              "<IPython.core.display.Markdown object>"
            ],
            "text/markdown": "> **user**: Qual a cor do céu"
          },
          "metadata": {}
        },
        {
          "output_type": "display_data",
          "data": {
            "text/plain": [
              "<IPython.core.display.Markdown object>"
            ],
            "text/markdown": "> **model**: Azul"
          },
          "metadata": {}
        },
        {
          "output_type": "display_data",
          "data": {
            "text/plain": [
              "<IPython.core.display.Markdown object>"
            ],
            "text/markdown": "> **user**: Qual a cor do céu"
          },
          "metadata": {}
        },
        {
          "output_type": "display_data",
          "data": {
            "text/plain": [
              "<IPython.core.display.Markdown object>"
            ],
            "text/markdown": "> **model**: Azul"
          },
          "metadata": {}
        },
        {
          "output_type": "display_data",
          "data": {
            "text/plain": [
              "<IPython.core.display.Markdown object>"
            ],
            "text/markdown": "> **user**: Qual a cor do céu"
          },
          "metadata": {}
        },
        {
          "output_type": "display_data",
          "data": {
            "text/plain": [
              "<IPython.core.display.Markdown object>"
            ],
            "text/markdown": "> **model**: Azul"
          },
          "metadata": {}
        },
        {
          "output_type": "display_data",
          "data": {
            "text/plain": [
              "<IPython.core.display.Markdown object>"
            ],
            "text/markdown": "> **user**: Qual a capital da Bolivia"
          },
          "metadata": {}
        },
        {
          "output_type": "display_data",
          "data": {
            "text/plain": [
              "<IPython.core.display.Markdown object>"
            ],
            "text/markdown": "> **model**: Sucre"
          },
          "metadata": {}
        },
        {
          "output_type": "display_data",
          "data": {
            "text/plain": [
              "<IPython.core.display.Markdown object>"
            ],
            "text/markdown": "> **user**: Qual a comida tradicional desse lugar?"
          },
          "metadata": {}
        },
        {
          "output_type": "display_data",
          "data": {
            "text/plain": [
              "<IPython.core.display.Markdown object>"
            ],
            "text/markdown": "> **model**: Salteña"
          },
          "metadata": {}
        },
        {
          "output_type": "display_data",
          "data": {
            "text/plain": [
              "<IPython.core.display.Markdown object>"
            ],
            "text/markdown": "> **user**: Do que é feito essa comida?"
          },
          "metadata": {}
        },
        {
          "output_type": "display_data",
          "data": {
            "text/plain": [
              "<IPython.core.display.Markdown object>"
            ],
            "text/markdown": "> **model**: Carne, vegetais, caldo e massa"
          },
          "metadata": {}
        },
        {
          "output_type": "display_data",
          "data": {
            "text/plain": [
              "<IPython.core.display.Markdown object>"
            ],
            "text/markdown": "> **user**: Quanl a população desse lugar?"
          },
          "metadata": {}
        },
        {
          "output_type": "display_data",
          "data": {
            "text/plain": [
              "<IPython.core.display.Markdown object>"
            ],
            "text/markdown": "> **model**: 11,6 milhões (2023)"
          },
          "metadata": {}
        },
        {
          "output_type": "display_data",
          "data": {
            "text/plain": [
              "<IPython.core.display.Markdown object>"
            ],
            "text/markdown": "> **user**: Qual a capital da australia"
          },
          "metadata": {}
        },
        {
          "output_type": "display_data",
          "data": {
            "text/plain": [
              "<IPython.core.display.Markdown object>"
            ],
            "text/markdown": "> **model**: Camberra"
          },
          "metadata": {}
        }
      ]
    }
  ]
}